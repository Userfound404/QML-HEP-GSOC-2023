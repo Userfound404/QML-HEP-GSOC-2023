{
  "nbformat": 4,
  "nbformat_minor": 0,
  "metadata": {
    "colab": {
      "provenance": [],
      "authorship_tag": "ABX9TyO5FNHfzIHM6iZCK7Ncmwa3",
      "include_colab_link": true
    },
    "kernelspec": {
      "name": "python3",
      "display_name": "Python 3"
    },
    "language_info": {
      "name": "python"
    }
  },
  "cells": [
    {
      "cell_type": "markdown",
      "metadata": {
        "id": "view-in-github",
        "colab_type": "text"
      },
      "source": [
        "<a href=\"https://colab.research.google.com/github/Userfound404/QML-HEP-GSOC-2023/blob/main/Gsoc_Task_3__open_task.ipynb\" target=\"_parent\"><img src=\"https://colab.research.google.com/assets/colab-badge.svg\" alt=\"Open In Colab\"/></a>"
      ]
    },
    {
      "cell_type": "markdown",
      "source": [
        "# TASK 3\n",
        "\n"
      ],
      "metadata": {
        "id": "-CGJtu9OEdRa"
      }
    },
    {
      "cell_type": "markdown",
      "source": [
        "#### Please comment on quantum computing or quantum machine learning. You can also comment on one quantum algorithm or one quantum software you are familiar with. You can also suggest methods you think are good and you would like to work on."
      ],
      "metadata": {
        "id": "kwrE27FaEgD-"
      }
    },
    {
      "cell_type": "markdown",
      "source": [
        "### What is quantum computing?\n",
        "\n",
        "A classical computer at it's smallest level contains transistors to implement all the processes. The transistors can be seen as a switch that either lets the bits flow or not.\n",
        "\n",
        "**What are bits?**\n",
        "\n",
        "The bit is the most basic unit of information in computing and digital communications. It can be either a 1 or 0.\n",
        "But as the size of transistors size is decreasing, where we currently have 7nm fabrication but going below that size might make the transistors not in the intended way. The electrons would directly jump through *quantum tunneling*\n",
        "\n",
        "Using this to our advantages, In a quantum computer we use qubits, instead of bits. where each qubit can hold a different value of 0 and 1 in the same qubit at once.\n",
        "This is known as superposition. The qubit can hold one of two values, It can be any two level quantum system such as a spin or magnetic field. A qubit is in a superposition of probabilities for 0 or 1 but as soon as we measure it, it collapses into either 1 or 0.\n",
        "\n",
        "This is where a quantum computer shines. 4 classical bits can store 2^4 values at a time out of which we can use one while 4 qubits can stay in all 2^4 states at once. This grows exponentially just as we add an extra qubit.\n",
        "just 20 qubits can store upto a million values parallely. 2^20 = 1,048,576 values.\n",
        "\n",
        "**Quantum Entanglement**\n",
        "\n",
        "*Quantum entanglement is a phenomenon in quantum mechanics where two or more particles can become correlated in such a way that the state of one particle is dependent on the state of the other particle, regardless of the distance between them. This means that if you measure the state of one particle, the state of the other particle is instantaneously determined, even if it is on the other side of the universe.*\n",
        "This means that we can measure all the states by not even looking at all the other qubits.\n",
        "\n",
        "**Quantum Gate**\n",
        "\n",
        "It manupulates an input of superpositions, rotates probabilities and produces an output.\n",
        "There are various kinds of gates like:\n",
        "1. Hadamard Gate(H-gate) - puts a qubit into a superposition, with equal probabilities of being in the state 0 and 1.\n",
        "        1/√2 [[1 1]\n",
        "            [1 -1]]\n",
        "2. Pauli (X gate) - similar to a classical NOT gate. it just flips from |0> to |1> \n",
        "        [[1 0]\n",
        "         [0 1]]\n",
        "   Y gate - Not gate with *i* multiple\n",
        "        [[0 -i]\n",
        "         [i 0]]\n",
        "   Z gate - flips sign in the second entangaled state(changes the spin)\n",
        "       [[1 0]\n",
        "       [0 -1]]\n",
        "3. CNOT gate-  two-qubit gate that performs a conditional operation on the second qubit based on the state of the first qubit.\n",
        "    [[1 0 0 0]\n",
        "    [0 1 0 0]\n",
        "    [0 0 0 1]\n",
        "    [0 0 1 0]]\n",
        "        \n",
        "**Quantum Circuits**\n",
        "\n",
        "they are a sequence of quantum gates applied to one or more qubits. These gates perform various operations on the qubits, such as rotations, phase shifts, and entanglement. \n",
        "Cirq is one such open source library devoloped by google to design circuits, here is how we can create circuits.\n",
        "lets create a simple quantum circuit that prepares a Bell state, which is a maximally entangled state between two qubits:"
      ],
      "metadata": {
        "id": "XtGE3HSMEjaz"
      }
    },
    {
      "cell_type": "code",
      "source": [
        "!pip install cirq"
      ],
      "metadata": {
        "colab": {
          "base_uri": "https://localhost:8080/"
        },
        "id": "-to5lp4aFGwq",
        "outputId": "6df816ca-d22e-4950-8252-2eb7d0d9deea"
      },
      "execution_count": 1,
      "outputs": [
        {
          "output_type": "stream",
          "name": "stdout",
          "text": [
            "Looking in indexes: https://pypi.org/simple, https://us-python.pkg.dev/colab-wheels/public/simple/\n",
            "Requirement already satisfied: cirq in /usr/local/lib/python3.9/dist-packages (1.1.0)\n",
            "Requirement already satisfied: cirq-ionq==1.1.0 in /usr/local/lib/python3.9/dist-packages (from cirq) (1.1.0)\n",
            "Requirement already satisfied: cirq-web==1.1.0 in /usr/local/lib/python3.9/dist-packages (from cirq) (1.1.0)\n",
            "Requirement already satisfied: cirq-aqt==1.1.0 in /usr/local/lib/python3.9/dist-packages (from cirq) (1.1.0)\n",
            "Requirement already satisfied: cirq-core==1.1.0 in /usr/local/lib/python3.9/dist-packages (from cirq) (1.1.0)\n",
            "Requirement already satisfied: cirq-google==1.1.0 in /usr/local/lib/python3.9/dist-packages (from cirq) (1.1.0)\n",
            "Requirement already satisfied: cirq-pasqal==1.1.0 in /usr/local/lib/python3.9/dist-packages (from cirq) (1.1.0)\n",
            "Requirement already satisfied: cirq-rigetti==1.1.0 in /usr/local/lib/python3.9/dist-packages (from cirq) (1.1.0)\n",
            "Requirement already satisfied: requests~=2.18 in /usr/local/lib/python3.9/dist-packages (from cirq-aqt==1.1.0->cirq) (2.27.1)\n",
            "Requirement already satisfied: tqdm in /usr/local/lib/python3.9/dist-packages (from cirq-core==1.1.0->cirq) (4.65.0)\n",
            "Requirement already satisfied: pandas in /usr/local/lib/python3.9/dist-packages (from cirq-core==1.1.0->cirq) (1.4.4)\n",
            "Requirement already satisfied: duet~=0.2.7 in /usr/local/lib/python3.9/dist-packages (from cirq-core==1.1.0->cirq) (0.2.7)\n",
            "Requirement already satisfied: networkx~=2.4 in /usr/local/lib/python3.9/dist-packages (from cirq-core==1.1.0->cirq) (2.8.8)\n",
            "Requirement already satisfied: scipy in /usr/local/lib/python3.9/dist-packages (from cirq-core==1.1.0->cirq) (1.10.1)\n",
            "Requirement already satisfied: matplotlib~=3.0 in /usr/local/lib/python3.9/dist-packages (from cirq-core==1.1.0->cirq) (3.7.1)\n",
            "Requirement already satisfied: typing-extensions in /usr/local/lib/python3.9/dist-packages (from cirq-core==1.1.0->cirq) (4.5.0)\n",
            "Requirement already satisfied: sortedcontainers~=2.0 in /usr/local/lib/python3.9/dist-packages (from cirq-core==1.1.0->cirq) (2.4.0)\n",
            "Requirement already satisfied: sympy in /usr/local/lib/python3.9/dist-packages (from cirq-core==1.1.0->cirq) (1.11.1)\n",
            "Requirement already satisfied: numpy<1.24,>=1.16 in /usr/local/lib/python3.9/dist-packages (from cirq-core==1.1.0->cirq) (1.22.4)\n",
            "Requirement already satisfied: proto-plus>=1.20.0 in /usr/local/lib/python3.9/dist-packages (from cirq-google==1.1.0->cirq) (1.22.2)\n",
            "Requirement already satisfied: google-api-core[grpc]<2.0.0dev,>=1.14.0 in /usr/local/lib/python3.9/dist-packages (from cirq-google==1.1.0->cirq) (1.34.0)\n",
            "Requirement already satisfied: protobuf<4,>=3.15.0 in /usr/local/lib/python3.9/dist-packages (from cirq-google==1.1.0->cirq) (3.19.6)\n",
            "Requirement already satisfied: pyquil>=3.2.0 in /usr/local/lib/python3.9/dist-packages (from cirq-rigetti==1.1.0->cirq) (3.3.4)\n",
            "Requirement already satisfied: googleapis-common-protos<2.0dev,>=1.56.2 in /usr/local/lib/python3.9/dist-packages (from google-api-core[grpc]<2.0.0dev,>=1.14.0->cirq-google==1.1.0->cirq) (1.59.0)\n",
            "Requirement already satisfied: google-auth<3.0dev,>=1.25.0 in /usr/local/lib/python3.9/dist-packages (from google-api-core[grpc]<2.0.0dev,>=1.14.0->cirq-google==1.1.0->cirq) (2.16.2)\n",
            "Requirement already satisfied: grpcio-status<2.0dev,>=1.33.2 in /usr/local/lib/python3.9/dist-packages (from google-api-core[grpc]<2.0.0dev,>=1.14.0->cirq-google==1.1.0->cirq) (1.48.2)\n",
            "Requirement already satisfied: grpcio<2.0dev,>=1.33.2 in /usr/local/lib/python3.9/dist-packages (from google-api-core[grpc]<2.0.0dev,>=1.14.0->cirq-google==1.1.0->cirq) (1.51.3)\n",
            "Requirement already satisfied: kiwisolver>=1.0.1 in /usr/local/lib/python3.9/dist-packages (from matplotlib~=3.0->cirq-core==1.1.0->cirq) (1.4.4)\n",
            "Requirement already satisfied: importlib-resources>=3.2.0 in /usr/local/lib/python3.9/dist-packages (from matplotlib~=3.0->cirq-core==1.1.0->cirq) (5.12.0)\n",
            "Requirement already satisfied: fonttools>=4.22.0 in /usr/local/lib/python3.9/dist-packages (from matplotlib~=3.0->cirq-core==1.1.0->cirq) (4.39.2)\n",
            "Requirement already satisfied: python-dateutil>=2.7 in /usr/local/lib/python3.9/dist-packages (from matplotlib~=3.0->cirq-core==1.1.0->cirq) (2.8.2)\n",
            "Requirement already satisfied: packaging>=20.0 in /usr/local/lib/python3.9/dist-packages (from matplotlib~=3.0->cirq-core==1.1.0->cirq) (23.0)\n",
            "Requirement already satisfied: pillow>=6.2.0 in /usr/local/lib/python3.9/dist-packages (from matplotlib~=3.0->cirq-core==1.1.0->cirq) (8.4.0)\n",
            "Requirement already satisfied: contourpy>=1.0.1 in /usr/local/lib/python3.9/dist-packages (from matplotlib~=3.0->cirq-core==1.1.0->cirq) (1.0.7)\n",
            "Requirement already satisfied: pyparsing>=2.3.1 in /usr/local/lib/python3.9/dist-packages (from matplotlib~=3.0->cirq-core==1.1.0->cirq) (3.0.9)\n",
            "Requirement already satisfied: cycler>=0.10 in /usr/local/lib/python3.9/dist-packages (from matplotlib~=3.0->cirq-core==1.1.0->cirq) (0.11.0)\n",
            "Requirement already satisfied: types-retry<0.10.0,>=0.9.9 in /usr/local/lib/python3.9/dist-packages (from pyquil>=3.2.0->cirq-rigetti==1.1.0->cirq) (0.9.9.2)\n",
            "Requirement already satisfied: lark<0.12.0,>=0.11.1 in /usr/local/lib/python3.9/dist-packages (from pyquil>=3.2.0->cirq-rigetti==1.1.0->cirq) (0.11.3)\n",
            "Requirement already satisfied: rpcq<4.0.0,>=3.10.0 in /usr/local/lib/python3.9/dist-packages (from pyquil>=3.2.0->cirq-rigetti==1.1.0->cirq) (3.11.0)\n",
            "Requirement already satisfied: types-python-dateutil<3.0.0,>=2.8.19 in /usr/local/lib/python3.9/dist-packages (from pyquil>=3.2.0->cirq-rigetti==1.1.0->cirq) (2.8.19.10)\n",
            "Requirement already satisfied: qcs-api-client<0.22.0,>=0.21.0 in /usr/local/lib/python3.9/dist-packages (from pyquil>=3.2.0->cirq-rigetti==1.1.0->cirq) (0.21.3)\n",
            "Requirement already satisfied: retry<0.10.0,>=0.9.2 in /usr/local/lib/python3.9/dist-packages (from pyquil>=3.2.0->cirq-rigetti==1.1.0->cirq) (0.9.2)\n",
            "Requirement already satisfied: urllib3<1.27,>=1.21.1 in /usr/local/lib/python3.9/dist-packages (from requests~=2.18->cirq-aqt==1.1.0->cirq) (1.26.15)\n",
            "Requirement already satisfied: idna<4,>=2.5 in /usr/local/lib/python3.9/dist-packages (from requests~=2.18->cirq-aqt==1.1.0->cirq) (3.4)\n",
            "Requirement already satisfied: charset-normalizer~=2.0.0 in /usr/local/lib/python3.9/dist-packages (from requests~=2.18->cirq-aqt==1.1.0->cirq) (2.0.12)\n",
            "Requirement already satisfied: certifi>=2017.4.17 in /usr/local/lib/python3.9/dist-packages (from requests~=2.18->cirq-aqt==1.1.0->cirq) (2022.12.7)\n",
            "Requirement already satisfied: pytz>=2020.1 in /usr/local/lib/python3.9/dist-packages (from pandas->cirq-core==1.1.0->cirq) (2022.7.1)\n",
            "Requirement already satisfied: mpmath>=0.19 in /usr/local/lib/python3.9/dist-packages (from sympy->cirq-core==1.1.0->cirq) (1.3.0)\n",
            "Requirement already satisfied: six>=1.9.0 in /usr/local/lib/python3.9/dist-packages (from google-auth<3.0dev,>=1.25.0->google-api-core[grpc]<2.0.0dev,>=1.14.0->cirq-google==1.1.0->cirq) (1.16.0)\n",
            "Requirement already satisfied: pyasn1-modules>=0.2.1 in /usr/local/lib/python3.9/dist-packages (from google-auth<3.0dev,>=1.25.0->google-api-core[grpc]<2.0.0dev,>=1.14.0->cirq-google==1.1.0->cirq) (0.2.8)\n",
            "Requirement already satisfied: rsa<5,>=3.1.4 in /usr/local/lib/python3.9/dist-packages (from google-auth<3.0dev,>=1.25.0->google-api-core[grpc]<2.0.0dev,>=1.14.0->cirq-google==1.1.0->cirq) (4.9)\n",
            "Requirement already satisfied: cachetools<6.0,>=2.0.0 in /usr/local/lib/python3.9/dist-packages (from google-auth<3.0dev,>=1.25.0->google-api-core[grpc]<2.0.0dev,>=1.14.0->cirq-google==1.1.0->cirq) (5.3.0)\n",
            "Requirement already satisfied: zipp>=3.1.0 in /usr/local/lib/python3.9/dist-packages (from importlib-resources>=3.2.0->matplotlib~=3.0->cirq-core==1.1.0->cirq) (3.15.0)\n",
            "Requirement already satisfied: retrying<2.0.0,>=1.3.3 in /usr/local/lib/python3.9/dist-packages (from qcs-api-client<0.22.0,>=0.21.0->pyquil>=3.2.0->cirq-rigetti==1.1.0->cirq) (1.3.4)\n",
            "Requirement already satisfied: attrs<22.0.0,>=21.3.0 in /usr/local/lib/python3.9/dist-packages (from qcs-api-client<0.22.0,>=0.21.0->pyquil>=3.2.0->cirq-rigetti==1.1.0->cirq) (21.4.0)\n",
            "Requirement already satisfied: pydantic<2.0.0,>=1.7.2 in /usr/local/lib/python3.9/dist-packages (from qcs-api-client<0.22.0,>=0.21.0->pyquil>=3.2.0->cirq-rigetti==1.1.0->cirq) (1.10.6)\n",
            "Requirement already satisfied: PyJWT<3.0.0,>=2.4.0 in /usr/local/lib/python3.9/dist-packages (from qcs-api-client<0.22.0,>=0.21.0->pyquil>=3.2.0->cirq-rigetti==1.1.0->cirq) (2.6.0)\n",
            "Requirement already satisfied: toml<0.11.0,>=0.10.2 in /usr/local/lib/python3.9/dist-packages (from qcs-api-client<0.22.0,>=0.21.0->pyquil>=3.2.0->cirq-rigetti==1.1.0->cirq) (0.10.2)\n",
            "Requirement already satisfied: httpx<0.24.0,>=0.23.0 in /usr/local/lib/python3.9/dist-packages (from qcs-api-client<0.22.0,>=0.21.0->pyquil>=3.2.0->cirq-rigetti==1.1.0->cirq) (0.23.3)\n",
            "Requirement already satisfied: rfc3339<7.0,>=6.2 in /usr/local/lib/python3.9/dist-packages (from qcs-api-client<0.22.0,>=0.21.0->pyquil>=3.2.0->cirq-rigetti==1.1.0->cirq) (6.2)\n",
            "Requirement already satisfied: iso8601<2.0.0,>=1.0.2 in /usr/local/lib/python3.9/dist-packages (from qcs-api-client<0.22.0,>=0.21.0->pyquil>=3.2.0->cirq-rigetti==1.1.0->cirq) (1.1.0)\n",
            "Requirement already satisfied: decorator>=3.4.2 in /usr/local/lib/python3.9/dist-packages (from retry<0.10.0,>=0.9.2->pyquil>=3.2.0->cirq-rigetti==1.1.0->cirq) (4.4.2)\n",
            "Requirement already satisfied: py<2.0.0,>=1.4.26 in /usr/local/lib/python3.9/dist-packages (from retry<0.10.0,>=0.9.2->pyquil>=3.2.0->cirq-rigetti==1.1.0->cirq) (1.11.0)\n",
            "Requirement already satisfied: ruamel.yaml in /usr/local/lib/python3.9/dist-packages (from rpcq<4.0.0,>=3.10.0->pyquil>=3.2.0->cirq-rigetti==1.1.0->cirq) (0.17.21)\n",
            "Requirement already satisfied: pyzmq>=17 in /usr/local/lib/python3.9/dist-packages (from rpcq<4.0.0,>=3.10.0->pyquil>=3.2.0->cirq-rigetti==1.1.0->cirq) (23.2.1)\n",
            "Requirement already satisfied: python-rapidjson in /usr/local/lib/python3.9/dist-packages (from rpcq<4.0.0,>=3.10.0->pyquil>=3.2.0->cirq-rigetti==1.1.0->cirq) (1.10)\n",
            "Requirement already satisfied: msgpack<2.0,>=0.6 in /usr/local/lib/python3.9/dist-packages (from rpcq<4.0.0,>=3.10.0->pyquil>=3.2.0->cirq-rigetti==1.1.0->cirq) (1.0.5)\n",
            "Requirement already satisfied: rfc3986[idna2008]<2,>=1.3 in /usr/local/lib/python3.9/dist-packages (from httpx<0.24.0,>=0.23.0->qcs-api-client<0.22.0,>=0.21.0->pyquil>=3.2.0->cirq-rigetti==1.1.0->cirq) (1.5.0)\n",
            "Requirement already satisfied: httpcore<0.17.0,>=0.15.0 in /usr/local/lib/python3.9/dist-packages (from httpx<0.24.0,>=0.23.0->qcs-api-client<0.22.0,>=0.21.0->pyquil>=3.2.0->cirq-rigetti==1.1.0->cirq) (0.16.3)\n",
            "Requirement already satisfied: sniffio in /usr/local/lib/python3.9/dist-packages (from httpx<0.24.0,>=0.23.0->qcs-api-client<0.22.0,>=0.21.0->pyquil>=3.2.0->cirq-rigetti==1.1.0->cirq) (1.3.0)\n",
            "Requirement already satisfied: pyasn1<0.5.0,>=0.4.6 in /usr/local/lib/python3.9/dist-packages (from pyasn1-modules>=0.2.1->google-auth<3.0dev,>=1.25.0->google-api-core[grpc]<2.0.0dev,>=1.14.0->cirq-google==1.1.0->cirq) (0.4.8)\n",
            "Requirement already satisfied: ruamel.yaml.clib>=0.2.6 in /usr/local/lib/python3.9/dist-packages (from ruamel.yaml->rpcq<4.0.0,>=3.10.0->pyquil>=3.2.0->cirq-rigetti==1.1.0->cirq) (0.2.7)\n",
            "Requirement already satisfied: h11<0.15,>=0.13 in /usr/local/lib/python3.9/dist-packages (from httpcore<0.17.0,>=0.15.0->httpx<0.24.0,>=0.23.0->qcs-api-client<0.22.0,>=0.21.0->pyquil>=3.2.0->cirq-rigetti==1.1.0->cirq) (0.14.0)\n",
            "Requirement already satisfied: anyio<5.0,>=3.0 in /usr/local/lib/python3.9/dist-packages (from httpcore<0.17.0,>=0.15.0->httpx<0.24.0,>=0.23.0->qcs-api-client<0.22.0,>=0.21.0->pyquil>=3.2.0->cirq-rigetti==1.1.0->cirq) (3.6.2)\n"
          ]
        }
      ]
    },
    {
      "cell_type": "code",
      "execution_count": 3,
      "metadata": {
        "colab": {
          "base_uri": "https://localhost:8080/"
        },
        "id": "MDz3DIfZAmQt",
        "outputId": "752d24f6-e593-42b2-bf9f-9fee47ade7a2"
      },
      "outputs": [
        {
          "output_type": "stream",
          "name": "stdout",
          "text": [
            "0: ───H───@───\n",
            "          │\n",
            "1: ───────X───\n"
          ]
        }
      ],
      "source": [
        "import cirq\n",
        "\n",
        "q0 = cirq.LineQubit(0)\n",
        "q1 = cirq.LineQubit(1)\n",
        "\n",
        "circuit_test = cirq.Circuit()\n",
        "\n",
        "circuit_test.append(cirq.H(q0))\n",
        "\n",
        "circuit_test.append(cirq.CNOT(q0, q1))\n",
        "\n",
        "print(circuit_test)"
      ]
    },
    {
      "cell_type": "code",
      "source": [
        "q0 = cirq.GridQubit(0, 0)\n",
        "q1 = cirq.GridQubit(0, 1)\n",
        "\n",
        "# Define a quantum circuit\n",
        "circuit = cirq.Circuit(\n",
        "    cirq.X(q0),           # Apply an X gate to qubit 0\n",
        "    cirq.H(q1),           # Apply a Hadamard gate to qubit 1\n",
        "    cirq.CNOT(q0, q1),    # Apply a CNOT gate with q0 as the control and q1 as the target\n",
        "    cirq.measure(q0, q1)  # Measure the two qubits\n",
        ")\n",
        "\n",
        "print(circuit)"
      ],
      "metadata": {
        "colab": {
          "base_uri": "https://localhost:8080/"
        },
        "id": "zs8lvnIYEx5P",
        "outputId": "fefd0ff0-c6c5-46f9-96d4-9544ebe77b15"
      },
      "execution_count": 6,
      "outputs": [
        {
          "output_type": "stream",
          "name": "stdout",
          "text": [
            "(0, 0): ───X───@───M───\n",
            "               │   │\n",
            "(0, 1): ───H───X───M───\n"
          ]
        }
      ]
    },
    {
      "cell_type": "code",
      "source": [
        "simulator = cirq.Simulator()\n",
        "result = simulator.run(circuit, repetitions=1000)\n",
        "print(result)"
      ],
      "metadata": {
        "colab": {
          "base_uri": "https://localhost:8080/"
        },
        "id": "BOUPy95nHGdS",
        "outputId": "8600bc17-2c4e-485a-f1ba-4714b7e1ca9b"
      },
      "execution_count": 7,
      "outputs": [
        {
          "output_type": "stream",
          "name": "stdout",
          "text": [
            "q(0, 0),q(0, 1)=1111111111111111111111111111111111111111111111111111111111111111111111111111111111111111111111111111111111111111111111111111111111111111111111111111111111111111111111111111111111111111111111111111111111111111111111111111111111111111111111111111111111111111111111111111111111111111111111111111111111111111111111111111111111111111111111111111111111111111111111111111111111111111111111111111111111111111111111111111111111111111111111111111111111111111111111111111111111111111111111111111111111111111111111111111111111111111111111111111111111111111111111111111111111111111111111111111111111111111111111111111111111111111111111111111111111111111111111111111111111111111111111111111111111111111111111111111111111111111111111111111111111111111111111111111111111111111111111111111111111111111111111111111111111111111111111111111111111111111111111111111111111111111111111111111111111111111111111111111111111111111111111111111111111111111111111111111111111111111111111111111111111111111111111111111111111111111, 1100000001011000101111010011000001011110101000010000011011110010000000011101101010010010101100110101101000010111001011000100101000101111111010100001011011001011101011001100110001000011110100001001000001010101010111110001111111100010110011011001100011110100111101011010101000000000100111010001001000011011001011000100111110001100101111101110011011111101111100011101011100110101001101111011000100111111011000101101101000111100110101011101100010000001111100010111101001101001101011010101111000001110100011011001010100000101000011101111001001000000000100001100111001111111101111001011101000110110100001110010101111001000001011000000111111000100101111110101110011110111101011010110001111111110001101111011011000011000101100010110110011011010110101110101011100011100000011000001010001011100011110011001010010111010100111010100001010011001010101011000010011111110110101001011010010000011001001110000110101011010110101111010101101011001001000110111101000010011101010001001001010000110101011111001110110011111\n"
          ]
        }
      ]
    },
    {
      "cell_type": "markdown",
      "source": [
        "### Quantum Machine Learning(QML)\n",
        "\n",
        "Machine learning used in quantum computers for either de-noising or to directly process quantum data. For certain applications, learning models created on quantum computers may be dramatically more powerful, possibly offering faster computation, better generalisation on less data, or both.\n",
        "\n",
        "The goal of  involving a quantum computer and machine learning is to make the QML algorithm less complex and more effective at utilising storage space. The many advantages of applying the concept of quantum computing encourage scientists and researchers to do so in order to improve the precision of their findings. Additionally, using QML encourages them to learn more about quantum computing so that researchers and professors can take advantage of quantum advantages when computing and conducting experiments.\n",
        "\n",
        "In most cases, the notion of quantum advantage is expressed in terms of computational advantages. Can a quantum computer, given a task with clearly defined inputs and outputs, produce a more accurate result than a classical machine in a similar amount of time?\n",
        "\n",
        "Let's see one algorithm that interested me.\n",
        "But before seeing the algorithm let's see how encryption works, specially the RSA cryptosystem\n",
        "\n",
        "**Rivest - Shamir - Adleman Encryption**\n",
        "\n",
        "The algorithm is based on the fact that factoring large integers is a computationally challenging problem. A public key and a private key are used in the RSA algorithm. Encryption of messages takes place using the public key, and decryption takes place using the private key. Because it is computationally impossible to deduce the private key from the public key, it's considered hard to crack.\n",
        "\n",
        "The algorithm typically works in the following way.\n",
        "1. Choose two large prime numbers, p and q.\n",
        "2. Calculate `n = p*q` , which is the modulus for the public and private keys.\n",
        "3. Calculate the Carmichael's totient function(φ(p) = p − 1) of n, `φ(n) = (p-1)*(q-1)` .\n",
        "4. Choose an integer e such that `1 < e < φ(n)` and `gcd(e, φ(n)) = 1`. This is the public key.\n",
        "5. Calculate the integer d such that `d*e ≡ 1 (mod φ(n))`. This is the private key.\n",
        "\n",
        "- To encrypt a message m using the public key (n, e)\n",
        "    1. Represent the message as an integer between 0 and n-1\n",
        "    2. Calculate the ciphertext `c = m^e (mod n)`.\n",
        "- To decrypt the message c back to m by using private key d\n",
        "    1. Calculate the plaintext `m = c^d (mod n)`.\n",
        "    \n",
        "    \n",
        "Now let's see how quantum computers makes this encryption broken.\n",
        "\n",
        "**Shor's Algorithm**\n",
        "\n",
        "Shor's algorithm can factor large integers efficiently using a quantum computer. \n",
        "\n",
        "Shor's algorithm determines a function's period by employing the quantum Fourier transform. The modular exponentiation function, which is used in the RSA algorithm to encrypt and decrypt messages, is the function used when factoring integers. The factors of the initial number can be found by calculating the period of this function.\n",
        "\n",
        "Here is how this algorithm works.\n",
        "1. Choose a large composite number N to be factored.\n",
        "2. Choose a random number a such that `gcd(a, N) = 1`.\n",
        "3. Use a quantum computer to find the period r of the function `f(x) = a^x mod N`, a period of function is said to the smallest positive value T such that f(x) = f(T+x), meaning that function repeats itself after T inputs.\n",
        "4. If r is even, then `gcd(a^(r/2) + 1, N)` and `gcd(a^(r/2) - 1, N)` are factors of N.\n",
        "\n",
        "It uses quantum gates to calculate the factor of a large number N in $O((log N)^2 * (log log N) * (log log log N))$ using fast multiplication.\n",
        "\n",
        "**Shor's algorithm has broken a 829-bit key**\n",
        "\n",
        "Here's how we can implement this algorithm in cirq:"
      ],
      "metadata": {
        "id": "Xy0DHAG5FLZd"
      }
    },
    {
      "cell_type": "code",
      "source": [
        "import cirq\n",
        "from math import gcd\n",
        "\n",
        "def shor_period_finding(n, a):\n",
        "    num_qubits = 2 * n.bit_length()\n",
        "    qubits = cirq.LineQubit.range(num_qubits)\n",
        "\n",
        "    circuit = cirq.Circuit()\n",
        "    for i in range(n):\n",
        "        circuit.append(cirq.H(qubits[i]))\n",
        "\n",
        "    # Apply modular exponentiation gates\n",
        "    for i in range(n):\n",
        "        for j in range(2 * i):\n",
        "            circuit.append(cirq.CNOT(qubits[n + i], qubits[j]))\n",
        "\n",
        "        circuit.append(cirq.pow(cirq.Z ** pow(2, i), a, qubits[n:n+i+1]))\n",
        "\n",
        "    # Apply inverse quantum Fourier transform\n",
        "    for i in range(n):\n",
        "        circuit.append(cirq.H(qubits[i]))\n",
        "\n",
        "    circuit.append(cirq.measure(*qubits[:n], key='result'))\n",
        "\n",
        "    simulator = cirq.Simulator()\n",
        "    result = simulator.run(circuit, repetitions=1)\n",
        "\n",
        "    # Find the period from the measurement result\n",
        "    measured_result = result.measurements['result'][0]\n",
        "    x = int(''.join(str(i) for i in measured_result), 2)\n",
        "    period = gcd(x, 2**n)\n",
        "\n",
        "    return period"
      ],
      "metadata": {
        "id": "GJlxm0JAE1jE"
      },
      "execution_count": 8,
      "outputs": []
    },
    {
      "cell_type": "markdown",
      "source": [
        "Tools like tensorflow Quantum enable us to stimulate quantum environment and executing quantum circuits on classical quantum circuit simulators."
      ],
      "metadata": {
        "id": "pW9mqz2jHWe1"
      }
    },
    {
      "cell_type": "markdown",
      "source": [
        "#### personal experience\n",
        "\n",
        "I've learned about quantum machine learning quite recently, probably a month ago but I did explore a lot about 'Quantum Advantage' and frameworks like tensorflow Quantum and Cirq.  I would say that i've put my learning into application while doing the evaluation tasks for 2023. I also am a blogger and it is kind of understood by the way I have written my answers above\n",
        "\n",
        "my references:\n",
        "\n",
        "Quantum Machine Learning and the Power of Data - [link](https://ai.googleblog.com/2021/06/quantum-machine-learning-and-power-of.html)\n",
        "\n",
        "Shor's Algorithm - [link](https://en.wikipedia.org/wiki/Shor%27s_algorithm)\n",
        "\n",
        "RSA encryption - [link](https://en.wikipedia.org/wiki/RSA_(cryptosystem))\n",
        "\n"
      ],
      "metadata": {
        "id": "YdP41ial4nuT"
      }
    },
    {
      "cell_type": "code",
      "source": [],
      "metadata": {
        "id": "1Z3L-zheHQ72"
      },
      "execution_count": null,
      "outputs": []
    }
  ]
}